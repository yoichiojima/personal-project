{
 "cells": [
  {
   "cell_type": "code",
   "execution_count": 1,
   "id": "651d5055-30a5-4c31-b9f0-a064c35fb273",
   "metadata": {},
   "outputs": [],
   "source": [
    "list1 = [1,2,4]\n",
    "list2 = [1,3,4]"
   ]
  },
  {
   "cell_type": "code",
   "execution_count": 11,
   "id": "11e2501b-9bb7-4acb-ba58-6fc85d2b297d",
   "metadata": {},
   "outputs": [],
   "source": [
    "def test_merge_two(list1, list2):\n",
    "    return sorted(list1 + list2)\n",
    "\n",
    "    assert test_merge_two(list1, list2) == [1,1,2,3,4,4]"
   ]
  },
  {
   "cell_type": "code",
   "execution_count": 12,
   "id": "551cd51b-5900-427f-a8da-6cee81c74bbe",
   "metadata": {},
   "outputs": [
    {
     "data": {
      "text/plain": [
       "[]"
      ]
     },
     "execution_count": 12,
     "metadata": {},
     "output_type": "execute_result"
    }
   ],
   "source": [
    "test_merge_two([], [])"
   ]
  },
  {
   "cell_type": "code",
   "execution_count": null,
   "id": "47d5b466-dfd3-45a4-bad1-7a5a92a3e84e",
   "metadata": {},
   "outputs": [],
   "source": []
  }
 ],
 "metadata": {
  "kernelspec": {
   "display_name": "Python 3.7.9 ('.venv': venv)",
   "language": "python",
   "name": "python3"
  },
  "language_info": {
   "codemirror_mode": {
    "name": "ipython",
    "version": 3
   },
   "file_extension": ".py",
   "mimetype": "text/x-python",
   "name": "python",
   "nbconvert_exporter": "python",
   "pygments_lexer": "ipython3",
   "version": "3.7.9"
  },
  "vscode": {
   "interpreter": {
    "hash": "e08f905bf1776663953e7111deca47b3f4ca7336e0fc40e244c1581d71b27367"
   }
  }
 },
 "nbformat": 4,
 "nbformat_minor": 5
}
