{
 "cells": [
  {
   "cell_type": "code",
   "execution_count": 171,
   "id": "fb0748ea",
   "metadata": {},
   "outputs": [
    {
     "data": {
      "text/plain": [
       "'6Vejmu5dz6MMOnn2pIko9q'"
      ]
     },
     "execution_count": 171,
     "metadata": {},
     "output_type": "execute_result"
    }
   ],
   "source": [
    "from spotipy import Spotify\n",
    "from spotipy.oauth2 import SpotifyClientCredentials\n",
    "from _spotify.spotipy_auth import spotipy_auth\n",
    "\n",
    "spotipy_auth()\n",
    "\n",
    "sp = Spotify(auth_manager=SpotifyClientCredentials())\n",
    "sp.search('forest fire', type = 'track')['tracks']['items'][0]['id']"
   ]
  },
  {
   "cell_type": "code",
   "execution_count": null,
   "id": "b437c9d0",
   "metadata": {},
   "outputs": [],
   "source": []
  }
 ],
 "metadata": {
  "kernelspec": {
   "display_name": "Python 3.7.9 ('.venv': venv)",
   "language": "python",
   "name": "python3"
  },
  "language_info": {
   "codemirror_mode": {
    "name": "ipython",
    "version": 3
   },
   "file_extension": ".py",
   "mimetype": "text/x-python",
   "name": "python",
   "nbconvert_exporter": "python",
   "pygments_lexer": "ipython3",
   "version": "3.7.9"
  },
  "vscode": {
   "interpreter": {
    "hash": "e08f905bf1776663953e7111deca47b3f4ca7336e0fc40e244c1581d71b27367"
   }
  }
 },
 "nbformat": 4,
 "nbformat_minor": 5
}
