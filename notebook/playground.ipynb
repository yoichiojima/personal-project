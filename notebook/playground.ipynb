{
 "cells": [
  {
   "cell_type": "code",
   "execution_count": 159,
   "id": "8dc34ce4",
   "metadata": {},
   "outputs": [],
   "source": [
    "import pandas as pd\n",
    "from spotipy import Spotify, SpotifyClientCredentials\n",
    "from _auth.google_auth import google_auth\n",
    "from _spotify.spotipy_auth import spotipy_auth\n",
    "\n",
    "\n",
    "# Standardise audio features\n",
    "def _standardise(\n",
    "    audio_features: pd.DataFrame, \n",
    "    reference: pd.DataFrame\n",
    ") -> pd.DataFrame:\n",
    "\n",
    "    metrics = [\n",
    "        'danceability', 'energy', 'loudness', 'speechiness',\n",
    "        'acousticness', 'instrumentalness', 'liveness', 'valence', 'tempo',\n",
    "        'duration_ms'\n",
    "    ]\n",
    "\n",
    "    for m in metrics:\n",
    "        audio_features[m] = (\n",
    "            (audio_features[m] - reference.loc[m, 'mean']) \n",
    "            / reference.loc[m, 'std']\n",
    "        )\n",
    "\n",
    "    return audio_features[metrics].T.to_dict()[0]\n",
    "\n",
    "\n",
    "def retirieve_standardised_audio_features(track_id: str) -> dict:\n",
    "    google_auth()\n",
    "    spotipy_auth()\n",
    "\n",
    "\n",
    "    # Get Reference\n",
    "    global_top = (\n",
    "        pd.read_csv('gs://yo-personal-project/spotify/audio_features/37i9dQZEVXbMDoHDwVN2tF/2022-11-20.csv')\n",
    "        .set_index('feature')\n",
    "    )\n",
    "\n",
    "\n",
    "    # Get audio features from track_id\n",
    "    sp = Spotify(auth_manager = SpotifyClientCredentials())\n",
    "    audio_features = pd.DataFrame(sp.audio_features(tracks = track_id))\n",
    "\n",
    "    # Standardise audio features by global 50\n",
    "    return _standardise(audio_features, global_top)"
   ]
  },
  {
   "cell_type": "code",
   "execution_count": 160,
   "id": "f7ba6813",
   "metadata": {},
   "outputs": [
    {
     "data": {
      "text/plain": [
       "{'danceability': -0.35547775787649005,\n",
       " 'energy': -0.37064970423189825,\n",
       " 'loudness': -0.6196630763926674,\n",
       " 'speechiness': -0.35652068438789847,\n",
       " 'acousticness': -0.32025833060546227,\n",
       " 'instrumentalness': -0.3492735101954386,\n",
       " 'liveness': -0.3569710973512271,\n",
       " 'valence': -0.36543461894071005,\n",
       " 'tempo': -0.49384643883986545,\n",
       " 'duration_ms': 0.7342577375880254}"
      ]
     },
     "execution_count": 160,
     "metadata": {},
     "output_type": "execute_result"
    }
   ],
   "source": [
    "track_id = '2IqjKEBiz0CdLKdkXhxw84'\n",
    "\n",
    "retirieve_standardised_audio_features(track_id)"
   ]
  },
  {
   "cell_type": "code",
   "execution_count": null,
   "id": "f68f71fa",
   "metadata": {},
   "outputs": [],
   "source": []
  }
 ],
 "metadata": {
  "kernelspec": {
   "display_name": "Python 3.7.9 ('.venv': venv)",
   "language": "python",
   "name": "python3"
  },
  "language_info": {
   "codemirror_mode": {
    "name": "ipython",
    "version": 3
   },
   "file_extension": ".py",
   "mimetype": "text/x-python",
   "name": "python",
   "nbconvert_exporter": "python",
   "pygments_lexer": "ipython3",
   "version": "3.7.9"
  },
  "vscode": {
   "interpreter": {
    "hash": "e08f905bf1776663953e7111deca47b3f4ca7336e0fc40e244c1581d71b27367"
   }
  }
 },
 "nbformat": 4,
 "nbformat_minor": 5
}
