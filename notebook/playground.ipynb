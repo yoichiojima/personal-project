{
 "cells": [
  {
   "cell_type": "markdown",
   "id": "f9ffea8f",
   "metadata": {},
   "source": [
    "### See how informative data you can retrieve from spotify api"
   ]
  },
  {
   "cell_type": "code",
   "execution_count": 26,
   "id": "208d0d0f",
   "metadata": {},
   "outputs": [],
   "source": [
    "from spotipy import Spotify\n",
    "from spotipy.oauth2 import SpotifyClientCredentials\n",
    "from _spotify.spotipy_auth import spotipy_auth\n",
    "\n",
    "spotipy_auth()\n",
    "\n",
    "sp = Spotify(auth_manager=SpotifyClientCredentials())"
   ]
  },
  {
   "cell_type": "code",
   "execution_count": 69,
   "id": "3ba0a477",
   "metadata": {},
   "outputs": [],
   "source": [
    "### get sample idr\n",
    "def get_sample_ids():\n",
    "    hit_artist = sp.search('The Beatles', type = 'artist')['artists']['items'][0]\n",
    "    \n",
    "    ids = {}\n",
    "    ids['artist'] = hit_artist['id']\n",
    "\n",
    "    hit_album = sp.artist_albums(ids['artist'])['items'][0]\n",
    "    ids['album'] = hit_album['id']\n",
    "\n",
    "    hit_track = sp.album_tracks(ids['album'])['items'][0]\n",
    "    ids['track'] = hit_track['id']\n",
    "\n",
    "    return ids\n",
    "\n",
    "\n",
    "ids = get_sample_ids()"
   ]
  },
  {
   "cell_type": "markdown",
   "id": "8e42e521",
   "metadata": {},
   "source": [
    "#### Artist Data"
   ]
  },
  {
   "cell_type": "markdown",
   "id": "71bcda9e",
   "metadata": {},
   "source": [
    "#### what kind of information can we get from artist id ?"
   ]
  },
  {
   "cell_type": "code",
   "execution_count": 93,
   "id": "5df96a6e",
   "metadata": {},
   "outputs": [
    {
     "data": {
      "text/plain": [
       "{'external_urls': {'spotify': 'https://open.spotify.com/artist/3WrFJ7ztbogyGnTHbHJFl2'},\n",
       " 'followers': {'href': None, 'total': 23974102},\n",
       " 'genres': ['beatlesque',\n",
       "  'british invasion',\n",
       "  'classic rock',\n",
       "  'merseybeat',\n",
       "  'psychedelic rock',\n",
       "  'rock'],\n",
       " 'href': 'https://api.spotify.com/v1/artists/3WrFJ7ztbogyGnTHbHJFl2',\n",
       " 'id': '3WrFJ7ztbogyGnTHbHJFl2',\n",
       " 'images': [{'height': 640,\n",
       "   'url': 'https://i.scdn.co/image/ab6761610000e5ebe9348cc01ff5d55971b22433',\n",
       "   'width': 640},\n",
       "  {'height': 320,\n",
       "   'url': 'https://i.scdn.co/image/ab67616100005174e9348cc01ff5d55971b22433',\n",
       "   'width': 320},\n",
       "  {'height': 160,\n",
       "   'url': 'https://i.scdn.co/image/ab6761610000f178e9348cc01ff5d55971b22433',\n",
       "   'width': 160}],\n",
       " 'name': 'The Beatles',\n",
       " 'popularity': 82,\n",
       " 'type': 'artist',\n",
       " 'uri': 'spotify:artist:3WrFJ7ztbogyGnTHbHJFl2'}"
      ]
     },
     "execution_count": 93,
     "metadata": {},
     "output_type": "execute_result"
    }
   ],
   "source": [
    "# artist basic information\n",
    "sp.artist(ids['artist'])"
   ]
  },
  {
   "cell_type": "code",
   "execution_count": 94,
   "id": "6916ff10",
   "metadata": {},
   "outputs": [
    {
     "data": {
      "text/plain": [
       "['Revolver (Super Deluxe)',\n",
       " 'Get Back (Rooftop Performance)',\n",
       " 'Let It Be (Super Deluxe)',\n",
       " 'Abbey Road (Super Deluxe Edition)',\n",
       " 'The Beatles',\n",
       " 'Live At The Hollywood Bowl',\n",
       " 'Let It Be... Naked (Remastered)',\n",
       " 'Yellow Submarine Songtrack',\n",
       " 'On Air - Live At The BBC (Vol.2)',\n",
       " '1 (Remastered)',\n",
       " 'Live At The BBC (Remastered)',\n",
       " 'Let It Be (Remastered)',\n",
       " 'Abbey Road (Remastered)',\n",
       " 'Yellow Submarine (Remastered)',\n",
       " 'The Beatles (Remastered)',\n",
       " 'Magical Mystery Tour (Remastered)',\n",
       " \"Sgt. Pepper's Lonely Hearts Club Band (Deluxe Edition)\",\n",
       " \"Sgt. Pepper's Lonely Hearts Club Band (Deluxe Edition)\",\n",
       " \"Sgt. Pepper's Lonely Hearts Club Band (Remastered)\",\n",
       " \"Sgt. Pepper's Lonely Hearts Club Band (Super Deluxe Edition)\"]"
      ]
     },
     "execution_count": 94,
     "metadata": {},
     "output_type": "execute_result"
    }
   ],
   "source": [
    "## artist albums\n",
    "[i['name'] for i in sp.artist_albums(ids['artist'])['items']]"
   ]
  },
  {
   "cell_type": "code",
   "execution_count": 95,
   "id": "abda9693",
   "metadata": {},
   "outputs": [
    {
     "data": {
      "text/plain": [
       "['John Lennon',\n",
       " 'George Harrison',\n",
       " 'Paul McCartney',\n",
       " 'Ringo Starr',\n",
       " 'The Beach Boys',\n",
       " 'The Kinks',\n",
       " 'The Hollies',\n",
       " 'Bob Dylan',\n",
       " 'The Byrds',\n",
       " 'The Rolling Stones',\n",
       " 'Buddy Holly',\n",
       " 'Simon & Garfunkel',\n",
       " 'Badfinger',\n",
       " 'Wings',\n",
       " 'Chuck Berry',\n",
       " 'Donovan',\n",
       " 'Jimi Hendrix',\n",
       " 'Roy Orbison',\n",
       " 'Eric Clapton',\n",
       " 'Elvis Presley']"
      ]
     },
     "execution_count": 95,
     "metadata": {},
     "output_type": "execute_result"
    }
   ],
   "source": [
    "# artist related artists\n",
    "[i['name'] for i in sp.artist_related_artists(ids['artist'])['artists']]"
   ]
  },
  {
   "cell_type": "code",
   "execution_count": 99,
   "id": "d3a2758d",
   "metadata": {},
   "outputs": [
    {
     "data": {
      "text/plain": [
       "['Here Comes The Sun - Remastered 2009',\n",
       " 'Let It Be - Remastered 2009',\n",
       " 'Come Together - Remastered 2009',\n",
       " 'Yesterday - Remastered 2009',\n",
       " 'Twist And Shout - Remastered 2009',\n",
       " 'Blackbird - Remastered 2009',\n",
       " 'In My Life - Remastered 2009',\n",
       " 'Hey Jude - Remastered 2015',\n",
       " 'I Want To Hold Your Hand - Remastered 2015',\n",
       " 'Something - Remastered 2009']"
      ]
     },
     "execution_count": 99,
     "metadata": {},
     "output_type": "execute_result"
    }
   ],
   "source": [
    "# top tracks\n",
    "[i['name'] for i in sp.artist_top_tracks(ids['artist'])['tracks']]"
   ]
  },
  {
   "cell_type": "markdown",
   "id": "eee10eaa",
   "metadata": {},
   "source": [
    "#### what kind of information can we get from album id?"
   ]
  },
  {
   "cell_type": "code",
   "execution_count": 133,
   "id": "b53470e7",
   "metadata": {},
   "outputs": [
    {
     "data": {
      "text/plain": [
       "['1980s Greatest Hits 💜',\n",
       " '1980s Rap Retrogamer',\n",
       " 'Ambient 1980s',\n",
       " '1980s Rock',\n",
       " '80s Mix',\n",
       " 'All Out 80s',\n",
       " \"1980's Soul & RnB\",\n",
       " 'Top Hits of 1980',\n",
       " \"1980's Alternative\",\n",
       " '1980s Dance party']"
      ]
     },
     "execution_count": 133,
     "metadata": {},
     "output_type": "execute_result"
    }
   ],
   "source": [
    "# playlist\n",
    "[i['name'] for i in sp.search('1980s', type = 'playlist')['playlists']['items']]"
   ]
  },
  {
   "cell_type": "code",
   "execution_count": 135,
   "id": "b118c527",
   "metadata": {},
   "outputs": [
    {
     "name": "stdout",
     "output_type": "stream",
     "text": [
      "album_type album\n",
      "artists [{'external_urls': {'spotify': 'https://open.spotify.com/artist/3WrFJ7ztbogyGnTHbHJFl2'}, 'href': 'https://api.spotify.com/v1/artists/3WrFJ7ztbogyGnTHbHJFl2', 'id': '3WrFJ7ztbogyGnTHbHJFl2', 'name': 'The Beatles', 'type': 'artist', 'uri': 'spotify:artist:3WrFJ7ztbogyGnTHbHJFl2'}]\n",
      "copyrights [{'text': '© 2022 Calderstone Productions Limited (a division of Universal Music Group)', 'type': 'C'}, {'text': 'This Compilation ℗ 2022 Calderstone Productions Limited (a division of Universal Music Group)', 'type': 'P'}]\n",
      "external_ids {'upc': '00602448516602'}\n",
      "external_urls {'spotify': 'https://open.spotify.com/album/7C221PnWhYGv8Tc0xSbfdc'}\n",
      "genres []\n",
      "href https://api.spotify.com/v1/albums/7C221PnWhYGv8Tc0xSbfdc\n",
      "id 7C221PnWhYGv8Tc0xSbfdc\n",
      "images [{'height': 640, 'url': 'https://i.scdn.co/image/ab67616d0000b27333b139ea459f9d93c7b8fb30', 'width': 640}, {'height': 300, 'url': 'https://i.scdn.co/image/ab67616d00001e0233b139ea459f9d93c7b8fb30', 'width': 300}, {'height': 64, 'url': 'https://i.scdn.co/image/ab67616d0000485133b139ea459f9d93c7b8fb30', 'width': 64}]\n",
      "label UMC (Universal Music Catalogue)\n",
      "name Revolver (Super Deluxe)\n",
      "popularity 67\n",
      "release_date 2022-10-28\n",
      "release_date_precision day\n",
      "total_tracks 63\n",
      "type album\n",
      "uri spotify:album:7C221PnWhYGv8Tc0xSbfdc\n"
     ]
    }
   ],
   "source": [
    "# playlist\n",
    "res = sp.album(ids['album'])\n",
    "for i in res:\n",
    "    if i not in ['available_markets', 'tracks']:\n",
    "        print(i, res[i])"
   ]
  },
  {
   "cell_type": "code",
   "execution_count": 144,
   "id": "dc62af33",
   "metadata": {},
   "outputs": [
    {
     "name": "stdout",
     "output_type": "stream",
     "text": [
      "album_type album\n",
      "artists [{'external_urls': {'spotify': 'https://open.spotify.com/artist/3WrFJ7ztbogyGnTHbHJFl2'}, 'href': 'https://api.spotify.com/v1/artists/3WrFJ7ztbogyGnTHbHJFl2', 'id': '3WrFJ7ztbogyGnTHbHJFl2', 'name': 'The Beatles', 'type': 'artist', 'uri': 'spotify:artist:3WrFJ7ztbogyGnTHbHJFl2'}]\n",
      "copyrights [{'text': '© 2022 Calderstone Productions Limited (a division of Universal Music Group)', 'type': 'C'}, {'text': 'This Compilation ℗ 2022 Calderstone Productions Limited (a division of Universal Music Group)', 'type': 'P'}]\n",
      "external_ids {'upc': '00602448516602'}\n",
      "external_urls {'spotify': 'https://open.spotify.com/album/7C221PnWhYGv8Tc0xSbfdc'}\n",
      "genres []\n",
      "href https://api.spotify.com/v1/albums/7C221PnWhYGv8Tc0xSbfdc\n",
      "id 7C221PnWhYGv8Tc0xSbfdc\n",
      "images [{'height': 640, 'url': 'https://i.scdn.co/image/ab67616d0000b27333b139ea459f9d93c7b8fb30', 'width': 640}, {'height': 300, 'url': 'https://i.scdn.co/image/ab67616d00001e0233b139ea459f9d93c7b8fb30', 'width': 300}, {'height': 64, 'url': 'https://i.scdn.co/image/ab67616d0000485133b139ea459f9d93c7b8fb30', 'width': 64}]\n",
      "label UMC (Universal Music Catalogue)\n",
      "name Revolver (Super Deluxe)\n",
      "popularity 67\n",
      "release_date 2022-10-28\n",
      "release_date_precision day\n",
      "total_tracks 63\n",
      "type album\n",
      "uri spotify:album:7C221PnWhYGv8Tc0xSbfdc\n"
     ]
    }
   ],
   "source": [
    "for i in sp.album(ids['album']):\n",
    "    if i not in ('available_markets', 'tracks'):\n",
    "        print(i, res[i])"
   ]
  },
  {
   "cell_type": "markdown",
   "id": "53208957",
   "metadata": {},
   "source": [
    "### Proof of Concept"
   ]
  },
  {
   "cell_type": "markdown",
   "id": "09938c03",
   "metadata": {},
   "source": [
    "let users search for album and display informatiive information"
   ]
  },
  {
   "cell_type": "code",
   "execution_count": 148,
   "id": "2f606d82",
   "metadata": {},
   "outputs": [
    {
     "data": {
      "text/plain": [
       "dict_keys(['album_type', 'artists', 'available_markets', 'copyrights', 'external_ids', 'external_urls', 'genres', 'href', 'id', 'images', 'label', 'name', 'popularity', 'release_date', 'release_date_precision', 'total_tracks', 'tracks', 'type', 'uri'])"
      ]
     },
     "execution_count": 148,
     "metadata": {},
     "output_type": "execute_result"
    }
   ],
   "source": [
    "sp.album(ids['album']).keys()"
   ]
  },
  {
   "cell_type": "code",
   "execution_count": 153,
   "id": "e5e57df3",
   "metadata": {},
   "outputs": [
    {
     "name": "stdout",
     "output_type": "stream",
     "text": [
      "80s Mix\n",
      "80s Hits - Best of the 80s\n",
      "80s Hits\n",
      "80s Rock Anthems\n",
      "All Out 80s\n",
      "80s Rock\n",
      "’80s Hard Rock\n",
      "80s Country\n",
      "80s DANCE PARTY\n",
      "’80s Jam Session\n"
     ]
    }
   ],
   "source": [
    "for i in sp.search('80s', type = 'playlist')['playlists']['items']:\n",
    "    print(i['name'])"
   ]
  },
  {
   "cell_type": "code",
   "execution_count": 154,
   "id": "b96ad3fa",
   "metadata": {},
   "outputs": [
    {
     "name": "stdout",
     "output_type": "stream",
     "text": [
      "90s Mix\n",
      "90s Hits - Best of the 90s\n",
      "90s Country\n",
      "90s Rock Anthems\n",
      "All Out 90s\n",
      "Best '90s Alternative Playlist Ever\n",
      "90s & 2000s Hip Hop, Rap, R&B\n",
      "90s Smash Hits\n",
      "90s Pop Rock\n",
      "90s Rap\n"
     ]
    }
   ],
   "source": [
    "for i in sp.search('90s', type = 'playlist')['playlists']['items']:\n",
    "    print(i['name'])"
   ]
  },
  {
   "cell_type": "code",
   "execution_count": 156,
   "id": "322fcb53",
   "metadata": {},
   "outputs": [
    {
     "name": "stdout",
     "output_type": "stream",
     "text": [
      "70s Mix\n",
      "70s Hits - The Biggest Hits of the 70's\n",
      "70s Road Trip\n",
      "All Out 70s\n",
      "70's Rock Classics\n",
      "70s Rock Anthems\n",
      "70s Soul Classics\n",
      "Soft 70s\n",
      "70's Rock (Top 100)\n",
      "70s Rock Drive\n"
     ]
    }
   ],
   "source": [
    "for i in sp.search('70s', type = 'playlist')['playlists']['items']:\n",
    "    print(i['name'])"
   ]
  },
  {
   "cell_type": "code",
   "execution_count": 157,
   "id": "746d4ce7",
   "metadata": {},
   "outputs": [
    {
     "name": "stdout",
     "output_type": "stream",
     "text": [
      "60s Mix\n",
      "All Out 60s\n",
      "60s Country\n",
      "Best of 60s and 70s\n",
      "60s Rock Anthems\n",
      "60s Rock Drive\n",
      "Soft 60s\n",
      "1960s Hits\n",
      "60s Love Songs\n",
      "60s Rock\n"
     ]
    }
   ],
   "source": [
    "for i in sp.search('60s', type = 'playlist')['playlists']['items']:\n",
    "    print(i['name'])"
   ]
  },
  {
   "cell_type": "code",
   "execution_count": 160,
   "id": "26752564",
   "metadata": {},
   "outputs": [
    {
     "name": "stdout",
     "output_type": "stream",
     "text": [
      "2000s Mix\n",
      "2000s Throwbacks (Top 100 Hits)\n",
      "2000s🔥\n",
      "2000s Country\n",
      "2000s R&B & Hip-Hop Playlist\n",
      "All Out 2000s\n",
      "I Love My 2000s Hip-Hop\n",
      "2000s-2010s bangers\n",
      "2000s Screamo\n",
      "2000s rap bangers we all know\n"
     ]
    }
   ],
   "source": [
    "for i in sp.search('2000s', type = 'playlist')['playlists']['items']:\n",
    "    print(i['name'])"
   ]
  },
  {
   "cell_type": "code",
   "execution_count": 161,
   "id": "17dc36d5",
   "metadata": {},
   "outputs": [
    {
     "name": "stdout",
     "output_type": "stream",
     "text": [
      "2010s Mix\n",
      "2010s Throwbacks\n",
      "2010s Country\n",
      "2010s BANGERS\n",
      "The Party Hits of the 2010s\n",
      "2010's Hip Hop/Rap/Trap\n",
      "I Love My 2010s Hip-Hop\n",
      "All Out 2010s\n",
      "Top Hits Of The 2010s\n",
      "I Love My '10s R&B\n"
     ]
    }
   ],
   "source": [
    "for i in sp.search('2010s', type = 'playlist')['playlists']['items']:\n",
    "    print(i['name'])"
   ]
  },
  {
   "cell_type": "code",
   "execution_count": 162,
   "id": "8fd66842",
   "metadata": {},
   "outputs": [],
   "source": [
    "eras = [\n",
    "    \"60s Mix\", \n",
    "    \"70s Mix\", \n",
    "    \"80s Mix\", \n",
    "    \"90s Mix\", \n",
    "    \"2000s Mix\", \n",
    "    \"2010s Mix\"\n",
    "]"
   ]
  },
  {
   "cell_type": "code",
   "execution_count": 165,
   "id": "9e2a069f",
   "metadata": {},
   "outputs": [],
   "source": [
    "era_ids = []\n",
    "for i in eras:\n",
    "    era_ids.append(sp.search(i, type = 'playlist')['playlists']['items'][0]['id'])\n"
   ]
  },
  {
   "cell_type": "code",
   "execution_count": 173,
   "id": "1b65d6d8",
   "metadata": {},
   "outputs": [],
   "source": [
    "era_playlist = {}\n",
    "for i in era_ids:\n",
    "    era_playlist[i] = sp.playlist_items(i)['items']"
   ]
  },
  {
   "cell_type": "code",
   "execution_count": 195,
   "id": "10666543",
   "metadata": {},
   "outputs": [
    {
     "name": "stdout",
     "output_type": "stream",
     "text": [
      "['37i9dQZF1EQoHemmkbENDL',\n",
      " '37i9dQZF1EQpVaHRDcozEz',\n",
      " '37i9dQZF1EQqZlCxLOykhS',\n",
      " '37i9dQZF1EQn2GRFTFMl2A',\n",
      " '37i9dQZF1EQn4jwNIohw50',\n",
      " '37i9dQZF1EQqedj0y9Uwvu']\n"
     ]
    }
   ],
   "source": [
    "pprint(era_ids)"
   ]
  },
  {
   "cell_type": "code",
   "execution_count": 196,
   "id": "638886ea",
   "metadata": {},
   "outputs": [],
   "source": [
    "era_ids = [\n",
    "    '37i9dQZF1EQoHemmkbENDL',\n",
    "    '37i9dQZF1EQpVaHRDcozEz',\n",
    "    '37i9dQZF1EQqZlCxLOykhS',\n",
    "    '37i9dQZF1EQn2GRFTFMl2A',\n",
    "    '37i9dQZF1EQn4jwNIohw50',\n",
    "    '37i9dQZF1EQqedj0y9Uwvu'\n",
    "]"
   ]
  },
  {
   "cell_type": "code",
   "execution_count": null,
   "id": "54091fff",
   "metadata": {},
   "outputs": [],
   "source": []
  }
 ],
 "metadata": {
  "kernelspec": {
   "display_name": "Python 3 (ipykernel)",
   "language": "python",
   "name": "python3"
  },
  "language_info": {
   "codemirror_mode": {
    "name": "ipython",
    "version": 3
   },
   "file_extension": ".py",
   "mimetype": "text/x-python",
   "name": "python",
   "nbconvert_exporter": "python",
   "pygments_lexer": "ipython3",
   "version": "3.7.9"
  },
  "vscode": {
   "interpreter": {
    "hash": "e08f905bf1776663953e7111deca47b3f4ca7336e0fc40e244c1581d71b27367"
   }
  }
 },
 "nbformat": 4,
 "nbformat_minor": 5
}
