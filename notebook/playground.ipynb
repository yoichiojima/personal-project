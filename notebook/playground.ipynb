{
 "cells": [
  {
   "cell_type": "code",
   "execution_count": 2,
   "id": "082fbf78",
   "metadata": {},
   "outputs": [
    {
     "data": {
      "text/plain": [
       "['spotify/audio_features/37i9dQZEVXbMDoHDwVN2tF/2022-11-20.csv']"
      ]
     },
     "execution_count": 2,
     "metadata": {},
     "output_type": "execute_result"
    }
   ],
   "source": [
    "from _storage.list_blobs import list_blobs\n",
    "from _auth.get_project_id import get_project_id\n",
    "from _auth.google_auth import google_auth\n",
    "\n",
    "google_auth()\n",
    "\n",
    "list_blobs(get_project_id())"
   ]
  },
  {
   "cell_type": "code",
   "execution_count": 5,
   "id": "27944204",
   "metadata": {},
   "outputs": [],
   "source": [
    "import pandas as pd\n",
    "from _auth.get_project_id import get_project_id\n",
    "\n",
    "df = pd.read_csv(f'gs://{get_project_id()}/spotify/audio_features/37i9dQZEVXbMDoHDwVN2tF/2022-11-20.csv')"
   ]
  },
  {
   "cell_type": "code",
   "execution_count": 47,
   "id": "f71a833b",
   "metadata": {},
   "outputs": [],
   "source": [
    "from spotipy import Spotify\n",
    "from spotipy.oauth2 import SpotifyClientCredentials\n",
    "from _spotify import spotipy_auth\n",
    "\n",
    "spotipy_auth()\n",
    "\n",
    "sp = Spotify(auth_manager = SpotifyClientCredentials())\n",
    "\n",
    "res = sp.search('bon iver', type = 'artist')\n",
    "some_id = res['artists']['items'][0]['id']\n",
    "artist = sp.artist(some_id)"
   ]
  },
  {
   "cell_type": "code",
   "execution_count": 45,
   "id": "e7356297",
   "metadata": {},
   "outputs": [],
   "source": [
    "def _standardise(audio_features: pd.DataFrame, reference: pd.DataFrame) -> pd.DataFrame:\n",
    "    metrics = [\n",
    "        \"danceability\",\n",
    "        \"energy\",\n",
    "        \"loudness\",\n",
    "        \"speechiness\",\n",
    "        \"acousticness\",\n",
    "        \"instrumentalness\",\n",
    "        \"liveness\",\n",
    "        \"valence\",\n",
    "        \"tempo\",\n",
    "        \"duration_ms\",\n",
    "    ]\n",
    "\n",
    "    for m in metrics:\n",
    "        audio_features[m] = (\n",
    "            audio_features[m] - reference.loc[m, \"mean\"]\n",
    "        ) / reference.loc[m, \"std\"]\n",
    "\n",
    "    return audio_features[metrics].T.to_dict()[0]\n",
    "\n",
    "def standardised_audio_features(track_id: str) -> dict:\n",
    "    # Get Reference\n",
    "    global_top = pd.read_csv(\n",
    "        \"gs://yo-personal-project/spotify/audio_features/37i9dQZEVXbMDoHDwVN2tF/2022-11-20.csv\"\n",
    "    ).set_index(\"feature\")\n",
    "\n",
    "    # Get audio features from track_id\n",
    "    sp = Spotify(auth_manager=SpotifyClientCredentials())\n",
    "    audio_features = pd.DataFrame(sp.audio_features(tracks=track_id))\n",
    "\n",
    "    # Standardise audio features by global 50\n",
    "    return _standardise(audio_features, global_top)"
   ]
  },
  {
   "cell_type": "code",
   "execution_count": 49,
   "id": "25c56f94",
   "metadata": {},
   "outputs": [],
   "source": [
    "std_features = standardised_audio_features('4pvb0WLRcMtbPGmtejJJ6y')"
   ]
  },
  {
   "cell_type": "code",
   "execution_count": 52,
   "id": "545fcdec",
   "metadata": {},
   "outputs": [],
   "source": [
    "label = list(std_features.keys())"
   ]
  },
  {
   "cell_type": "code",
   "execution_count": 56,
   "id": "65adea30",
   "metadata": {},
   "outputs": [
    {
     "data": {
      "text/plain": [
       "[-0.36892250389953235,\n",
       " -0.3632718563510213,\n",
       " -0.47833567115794223,\n",
       " -0.3570023751225863,\n",
       " -0.3256628563782553,\n",
       " -0.3551567740036169,\n",
       " -0.3583339938144173,\n",
       " -0.3673730589309246,\n",
       " -0.5278964160636473,\n",
       " 1.3989850103432933]"
      ]
     },
     "execution_count": 56,
     "metadata": {},
     "output_type": "execute_result"
    }
   ],
   "source": [
    "list(std_features.values())"
   ]
  },
  {
   "cell_type": "code",
   "execution_count": 40,
   "id": "7f8946b9",
   "metadata": {},
   "outputs": [
    {
     "data": {
      "text/plain": [
       "'4pvb0WLRcMtbPGmtejJJ6y'"
      ]
     },
     "execution_count": 40,
     "metadata": {},
     "output_type": "execute_result"
    }
   ],
   "source": [
    "sp.artist_top_tracks(some_id)['tracks'][0]['id']"
   ]
  },
  {
   "cell_type": "code",
   "execution_count": null,
   "id": "843f189e",
   "metadata": {},
   "outputs": [],
   "source": []
  }
 ],
 "metadata": {
  "kernelspec": {
   "display_name": "Python 3 (ipykernel)",
   "language": "python",
   "name": "python3"
  },
  "language_info": {
   "codemirror_mode": {
    "name": "ipython",
    "version": 3
   },
   "file_extension": ".py",
   "mimetype": "text/x-python",
   "name": "python",
   "nbconvert_exporter": "python",
   "pygments_lexer": "ipython3",
   "version": "3.7.9"
  },
  "vscode": {
   "interpreter": {
    "hash": "e08f905bf1776663953e7111deca47b3f4ca7336e0fc40e244c1581d71b27367"
   }
  }
 },
 "nbformat": 4,
 "nbformat_minor": 5
}
