{
 "cells": [
  {
   "cell_type": "code",
   "execution_count": null,
   "id": "526caab5",
   "metadata": {},
   "outputs": [],
   "source": []
  }
 ],
 "metadata": {
  "kernelspec": {
   "display_name": "Python 3 (ipykernel)",
   "language": "python",
   "name": "python3"
  },
  "language_info": {
   "codemirror_mode": {
    "name": "ipython",
    "version": 3
   },
   "file_extension": ".py",
   "mimetype": "text/x-python",
   "name": "python",
   "nbconvert_exporter": "python",
   "pygments_lexer": "ipython3",
   "version": "3.7.9"
  },
  "vscode": {
   "interpreter": {
    "hash": "e08f905bf1776663953e7111deca47b3f4ca7336e0fc40e244c1581d71b27367"
   }
  }
 },
 "nbformat": 4,
 "nbformat_minor": 5
}
