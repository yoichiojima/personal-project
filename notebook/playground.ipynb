{
 "cells": [
  {
   "cell_type": "code",
   "execution_count": 12,
   "id": "b437c9d0",
   "metadata": {},
   "outputs": [],
   "source": [
    "from multiprocessing import Pool, cpu_count\n",
    "import time\n",
    "\n",
    "def double(x):\n",
    "    \"\"\"heavy function\"\"\"\n",
    "    time.sleep(0.1)\n",
    "    return x * 2\n",
    "\n",
    "def multiprocess():\n",
    "    worker = cpu_count() - 1\n",
    "    start = time.perf_counter()\n",
    "    with Pool(worker) as p:\n",
    "        p.map(double, range(10*10))\n",
    "    end = time.perf_counter()\n",
    "\n",
    "    print(f\"Multiprocess: {end - start}\")\n",
    "\n",
    "def singleprocess():\n",
    "    start = time.perf_counter()\n",
    "    for i in range(10*10):\n",
    "        double(i)\n",
    "\n",
    "    end = time.perf_counter()\n",
    "\n",
    "    print(f\"Singleprocess: {end - start}\")\n",
    "\n",
    "if __name__ == \"__main__\":\n",
    "    multiprocess()\n",
    "    singleprocess()\n",
    "    "
   ]
  },
  {
   "cell_type": "code",
   "execution_count": 13,
   "id": "9b0a5cb2",
   "metadata": {},
   "outputs": [
    {
     "name": "stdout",
     "output_type": "stream",
     "text": [
      "Multiprocess: 3.325486720000015\n"
     ]
    }
   ],
   "source": [
    "multiprocess()"
   ]
  },
  {
   "cell_type": "code",
   "execution_count": 14,
   "id": "d7e072ce",
   "metadata": {},
   "outputs": [],
   "source": [
    "singleprocess()"
   ]
  },
  {
   "cell_type": "code",
   "execution_count": null,
   "id": "082fbf78",
   "metadata": {},
   "outputs": [],
   "source": []
  }
 ],
 "metadata": {
  "kernelspec": {
   "display_name": "Python 3.7.9 ('.venv': venv)",
   "language": "python",
   "name": "python3"
  },
  "language_info": {
   "codemirror_mode": {
    "name": "ipython",
    "version": 3
   },
   "file_extension": ".py",
   "mimetype": "text/x-python",
   "name": "python",
   "nbconvert_exporter": "python",
   "pygments_lexer": "ipython3",
   "version": "3.7.9"
  },
  "vscode": {
   "interpreter": {
    "hash": "e08f905bf1776663953e7111deca47b3f4ca7336e0fc40e244c1581d71b27367"
   }
  }
 },
 "nbformat": 4,
 "nbformat_minor": 5
}
