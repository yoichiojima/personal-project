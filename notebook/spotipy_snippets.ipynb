{
 "cells": [
  {
   "cell_type": "code",
   "execution_count": null,
   "id": "fb2ca341-5c16-4539-be43-0d1120ed53a9",
   "metadata": {},
   "outputs": [],
   "source": [
    "import logging\n",
    "from datetime import datetime\n",
    "import pandas as pd\n",
    "import spotipy\n",
    "from spotipy.oauth2 import SpotifyClientCredentials\n",
    "from _spotify.spotipy_auth import spotipy_auth\n",
    "from _auth.get_project_id import get_project_id\n",
    "from _auth.google_auth import google_auth\n",
    "\n",
    "def categories():\n",
    "    try:\n",
    "        spotipy_auth()\n",
    "        spotify = spotipy.Spotify(client_credentials_manager=SpotifyClientCredentials())\n",
    "        result = spotify.categories(limit = 50, country = 'US')\n",
    "        df = pd.DataFrame(result['categories']['items'])\n",
    "        timestamp = datetime.now()\n",
    "        df['date'] = timestamp\n",
    "        google_auth()\n",
    "        df.to_csv(\n",
    "            f\"gs://{get_project_id()}\"\n",
    "            f\"/spotify/global_top_50/{timestamp.strftime('%Y-%m-%d')}.csv\"\n",
    "        )\n",
    "    except Exception as e:\n",
    "        logging.error(e)\n",
    "\n",
    "categories()"
   ]
  },
  {
   "cell_type": "code",
   "execution_count": null,
   "id": "4a27f715-7c4f-4c8e-b500-9e55db3a4028",
   "metadata": {},
   "outputs": [],
   "source": [
    "def query_new_releases():\n",
    "    spotify = spotipy.Spotify(client_credentials_manager=SpotifyClientCredentials())\n",
    "\n",
    "    result = spotify.new_releases(country = 'US', limit = 50)\n",
    "\n",
    "    df = pd.DataFrame(result['albums']['items'])\n",
    "    df = df.copy()\n",
    "    df['artists_name'] = df['artists'].apply(lambda row: [artist['name'] for artist in row])\n",
    "    df['artists_id'] = df['artists'].apply(lambda row: [artist['id'] for artist in row])\n",
    "    \n",
    "    return df[['album_type', \n",
    "               'artists_name', \n",
    "               'name', \n",
    "               'release_date', \n",
    "               'total_tracks', \n",
    "               'id',\n",
    "               'artists_id']]\n",
    "\n",
    "query_new_releases().head()"
   ]
  },
  {
   "cell_type": "code",
   "execution_count": null,
   "id": "d77aa580-9552-4d73-b1e4-7b90acbac50e",
   "metadata": {},
   "outputs": [],
   "source": [
    "artist_id = \"53KwLdlmrlCelAZMaLVZqU\"\n",
    "\n",
    "def query_artist(artist_id):\n",
    "    spotify = spotipy.Spotify(client_credentials_manager=SpotifyClientCredentials())\n",
    "\n",
    "    result = spotify.artist_related_artists(artist_id)\n",
    "\n",
    "    df = pd.DataFrame(result['artists'])\n",
    "\n",
    "    df = df[['name',\n",
    "             'followers',\n",
    "             'genres',\n",
    "             'popularity',\n",
    "             'id']]\n",
    "\n",
    "    df = df.copy()\n",
    "    df['followers'] = df['followers'].apply(lambda row: row['total'])\n",
    "    return df\n",
    "\n",
    "query_artist(artist_id).head()"
   ]
  },
  {
   "cell_type": "code",
   "execution_count": null,
   "id": "d19d531a-108b-4477-9973-085fa23198cb",
   "metadata": {},
   "outputs": [],
   "source": [
    "def query_top_playlists():\n",
    "    spotify = spotipy.Spotify(client_credentials_manager=SpotifyClientCredentials())\n",
    "    result = spotify.category_playlists(category_id = 'toplists', limit = 50, country = 'US')\n",
    "    df = pd.DataFrame(result['playlists']['items'])\n",
    "    return df[['name', 'description', 'id']]\n",
    "\n",
    "query_top_playlists()"
   ]
  },
  {
   "cell_type": "code",
   "execution_count": null,
   "id": "3b01c9b6-0367-4744-8800-bb142f2df27f",
   "metadata": {},
   "outputs": [],
   "source": [
    "def query_top_50_global():\n",
    "    spotify = spotipy.Spotify(client_credentials_manager=SpotifyClientCredentials())\n",
    "\n",
    "    result = spotify.playlist_tracks(playlist_id = '37i9dQZEVXbMDoHDwVN2tF', limit = 50)\n",
    "    \n",
    "    df = pd.DataFrame(result['items'])\n",
    "    df = df[['added_at',\n",
    "             'track']]\n",
    "\n",
    "    df = df.copy()\n",
    "    df['track_id'] = df['track'].apply(lambda row: row['id'])\n",
    "\n",
    "    df['track_name'] = df['track'].apply(lambda row: row['name'])\n",
    "    df['artists_id'] = df['track'].apply(lambda row: [artist['id'] for artist in row['artists']])\n",
    "    df['artists_name'] = df['track'].apply(lambda row: [artist['name'] for artist in row['artists']])\n",
    "\n",
    "    return df[['track_name', \n",
    "              'artists_name', \n",
    "              'added_at',\n",
    "              'track_id', \n",
    "              'artists_id']]\n",
    "\n",
    "query_top_50_global().head()"
   ]
  }
 ],
 "metadata": {
  "kernelspec": {
   "display_name": "Python 3 (ipykernel)",
   "language": "python",
   "name": "python3"
  },
  "language_info": {
   "codemirror_mode": {
    "name": "ipython",
    "version": 3
   },
   "file_extension": ".py",
   "mimetype": "text/x-python",
   "name": "python",
   "nbconvert_exporter": "python",
   "pygments_lexer": "ipython3",
   "version": "3.7.9"
  },
  "vscode": {
   "interpreter": {
    "hash": "e08f905bf1776663953e7111deca47b3f4ca7336e0fc40e244c1581d71b27367"
   }
  }
 },
 "nbformat": 4,
 "nbformat_minor": 5
}
