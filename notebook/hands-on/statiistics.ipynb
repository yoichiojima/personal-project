{
 "cells": [
  {
   "cell_type": "code",
   "execution_count": null,
   "metadata": {},
   "outputs": [],
   "source": [
    "from statsmodels.stats.proportion import proportions_ztest"
   ]
  },
  {
   "cell_type": "code",
   "execution_count": null,
   "id": "121d0e97",
   "metadata": {},
   "outputs": [],
   "source": [
    "proportions_ztest(\n",
    "    count = [5, 4], \n",
    "    nobs = [100, 100], \n",
    "    alternative = 'larger'\n",
    ")"
   ]
  },
  {
   "cell_type": "code",
   "execution_count": null,
   "id": "05204883",
   "metadata": {},
   "outputs": [],
   "source": [
    "import pandas as pd\n",
    "from scipy import stats\n",
    "from _auth.google_auth import google_auth\n",
    "from _auth.get_project_id import get_project_id"
   ]
  },
  {
   "cell_type": "code",
   "execution_count": null,
   "id": "d5162782",
   "metadata": {},
   "outputs": [],
   "source": [
    "google_auth()"
   ]
  },
  {
   "cell_type": "code",
   "execution_count": null,
   "id": "eec8e711",
   "metadata": {},
   "outputs": [],
   "source": [
    "df = pd.read_csv(f\"gs://{get_project_id()}/titanic/train.csv\")"
   ]
  },
  {
   "cell_type": "code",
   "execution_count": null,
   "id": "4c6a4938",
   "metadata": {},
   "outputs": [],
   "source": [
    "df = df[['Survived', 'Age']]"
   ]
  },
  {
   "cell_type": "code",
   "execution_count": null,
   "id": "72ed64f3",
   "metadata": {},
   "outputs": [],
   "source": [
    "df.describe()"
   ]
  },
  {
   "cell_type": "code",
   "execution_count": null,
   "id": "f3413bd1",
   "metadata": {},
   "outputs": [],
   "source": [
    "df = df.dropna()\n",
    "df.describe()"
   ]
  },
  {
   "cell_type": "code",
   "execution_count": null,
   "id": "acb084ce",
   "metadata": {},
   "outputs": [],
   "source": [
    "survived = df[df['Survived'] == 1]\n",
    "not_survived = df[df['Survived'] == 0]"
   ]
  },
  {
   "cell_type": "code",
   "execution_count": null,
   "id": "02979be3",
   "metadata": {},
   "outputs": [],
   "source": [
    "print(survived['Age'].mean(), not_survived['Age'].mean())"
   ]
  },
  {
   "cell_type": "code",
   "execution_count": null,
   "id": "a92fd6ea",
   "metadata": {},
   "outputs": [],
   "source": [
    "stats.ttest_ind(survived, not_survived, alternative ='less')"
   ]
  },
  {
   "cell_type": "code",
   "execution_count": null,
   "id": "7cebb7f9",
   "metadata": {},
   "outputs": [],
   "source": []
  }
 ],
 "metadata": {
  "kernelspec": {
   "display_name": "Python 3 (ipykernel)",
   "language": "python",
   "name": "python3"
  },
  "language_info": {
   "codemirror_mode": {
    "name": "ipython",
    "version": 3
   },
   "file_extension": ".py",
   "mimetype": "text/x-python",
   "name": "python",
   "nbconvert_exporter": "python",
   "pygments_lexer": "ipython3",
   "version": "3.7.9"
  },
  "vscode": {
   "interpreter": {
    "hash": "e08f905bf1776663953e7111deca47b3f4ca7336e0fc40e244c1581d71b27367"
   }
  }
 },
 "nbformat": 4,
 "nbformat_minor": 5
}
