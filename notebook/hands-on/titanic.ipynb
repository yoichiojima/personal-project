{
 "cells": [
  {
   "cell_type": "markdown",
   "id": "1f0285e9",
   "metadata": {},
   "source": [
    "## Titanic"
   ]
  },
  {
   "cell_type": "code",
   "execution_count": null,
   "id": "c2160073",
   "metadata": {},
   "outputs": [],
   "source": [
    "import numpy as np\n",
    "import pandas as pd\n",
    "from sklearn.preprocessing import StandardScaler, LabelEncoder\n",
    "from sklearn.ensemble import RandomForestClassifier\n",
    "from _auth.google_auth import google_auth\n",
    "from _auth.get_project_id import get_project_id"
   ]
  },
  {
   "cell_type": "code",
   "execution_count": null,
   "id": "20250b3f",
   "metadata": {},
   "outputs": [],
   "source": [
    "google_auth()\n",
    "train = pd.read_csv(f'gs://{get_project_id()}/titanic/train.csv')\n",
    "train.head()"
   ]
  },
  {
   "cell_type": "code",
   "execution_count": null,
   "id": "598fc890",
   "metadata": {},
   "outputs": [],
   "source": [
    "train = train.drop(columns = ['PassengerId', 'Name', 'Ticket', 'Cabin'])\n",
    "train = pd.get_dummies(train, columns = ['Pclass', 'Embarked'])"
   ]
  },
  {
   "cell_type": "code",
   "execution_count": null,
   "id": "e0495eea",
   "metadata": {},
   "outputs": [],
   "source": [
    "train.describe()"
   ]
  },
  {
   "cell_type": "code",
   "execution_count": null,
   "id": "cb76f2e0",
   "metadata": {},
   "outputs": [],
   "source": [
    "train['Age'] = train['Age'].fillna(28)\n",
    "train.describe()"
   ]
  },
  {
   "cell_type": "code",
   "execution_count": null,
   "id": "07fbd6fb",
   "metadata": {},
   "outputs": [],
   "source": [
    "label_sex = LabelEncoder()\n",
    "train['Sex'] = label_sex.fit_transform(train['Sex'])"
   ]
  },
  {
   "cell_type": "code",
   "execution_count": null,
   "id": "9b7c685f",
   "metadata": {},
   "outputs": [],
   "source": [
    "X = train.iloc[:, 1: ]\n",
    "Y = train.iloc[:, :1]"
   ]
  },
  {
   "cell_type": "code",
   "execution_count": null,
   "id": "70354e24",
   "metadata": {},
   "outputs": [],
   "source": [
    "sc = StandardScaler()\n",
    "X = sc.fit_transform(X)"
   ]
  },
  {
   "cell_type": "code",
   "execution_count": null,
   "id": "2161bea3",
   "metadata": {},
   "outputs": [],
   "source": [
    "model = RandomForestClassifier()\n",
    "model.fit(X, Y)"
   ]
  },
  {
   "cell_type": "code",
   "execution_count": null,
   "id": "fd0493dc",
   "metadata": {},
   "outputs": [],
   "source": [
    "test = pd.read_csv(f'gs://{get_project_id()}/titanic/test.csv')\n",
    "test_cache = test.copy()\n",
    "test.head()"
   ]
  },
  {
   "cell_type": "code",
   "execution_count": null,
   "id": "5324e9cd",
   "metadata": {},
   "outputs": [],
   "source": [
    "test = test.drop(columns = ['PassengerId', 'Name', 'Ticket', 'Cabin'])"
   ]
  },
  {
   "cell_type": "code",
   "execution_count": null,
   "id": "db7dfeef",
   "metadata": {},
   "outputs": [],
   "source": [
    "test = pd.get_dummies(test, columns = ['Pclass', 'Embarked'])"
   ]
  },
  {
   "cell_type": "code",
   "execution_count": null,
   "id": "0a9f400c",
   "metadata": {},
   "outputs": [],
   "source": [
    "label_sex = LabelEncoder()\n",
    "test['Sex'] = label_sex.fit_transform(test['Sex'])"
   ]
  },
  {
   "cell_type": "code",
   "execution_count": null,
   "id": "f3329c97",
   "metadata": {},
   "outputs": [],
   "source": [
    "test.describe()"
   ]
  },
  {
   "cell_type": "code",
   "execution_count": null,
   "id": "877f8e6e",
   "metadata": {},
   "outputs": [],
   "source": [
    "test['Age'] = test['Age'].fillna(27)\n",
    "test['Fare'] = test['Fare'].fillna(14.454200)"
   ]
  },
  {
   "cell_type": "code",
   "execution_count": null,
   "id": "b1392958",
   "metadata": {},
   "outputs": [],
   "source": [
    "test = sc.fit_transform(test)"
   ]
  },
  {
   "cell_type": "code",
   "execution_count": null,
   "id": "5c2d51e5",
   "metadata": {},
   "outputs": [],
   "source": [
    "y_pred = model.predict(test)"
   ]
  },
  {
   "cell_type": "code",
   "execution_count": null,
   "id": "d32cc9e5",
   "metadata": {},
   "outputs": [],
   "source": [
    "PassengerId = test_cache['PassengerId']\n",
    "PassengerId = np.array(PassengerId)\n",
    "test = pd.DataFrame(\n",
    "    {'PassengerId': PassengerId, 'Survived': y_pred}\n",
    ")"
   ]
  },
  {
   "cell_type": "code",
   "execution_count": null,
   "id": "af6e6ea7",
   "metadata": {},
   "outputs": [],
   "source": [
    "test.to_csv(f'gs://{get_project_id()}/titanic/predictioin.csv', index = False)\n",
    "test.to_csv(f'predictioin.csv', index = False)"
   ]
  },
  {
   "cell_type": "code",
   "execution_count": null,
   "id": "58ea3f74",
   "metadata": {},
   "outputs": [],
   "source": []
  }
 ],
 "metadata": {
  "kernelspec": {
   "display_name": "Python 3 (ipykernel)",
   "language": "python",
   "name": "python3"
  },
  "language_info": {
   "codemirror_mode": {
    "name": "ipython",
    "version": 3
   },
   "file_extension": ".py",
   "mimetype": "text/x-python",
   "name": "python",
   "nbconvert_exporter": "python",
   "pygments_lexer": "ipython3",
   "version": "3.7.9"
  },
  "vscode": {
   "interpreter": {
    "hash": "e08f905bf1776663953e7111deca47b3f4ca7336e0fc40e244c1581d71b27367"
   }
  }
 },
 "nbformat": 4,
 "nbformat_minor": 5
}
