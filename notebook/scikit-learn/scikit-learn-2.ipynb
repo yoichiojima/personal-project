{
 "cells": [
  {
   "cell_type": "markdown",
   "id": "bd3020ae",
   "metadata": {},
   "source": [
    "# Scikit-learn tutorial\n",
    "\n",
    "https://www.youtube.com/watch?v=0B5eIE_1vpU "
   ]
  },
  {
   "cell_type": "markdown",
   "id": "5ac2a742",
   "metadata": {},
   "source": [
    "## 1.Scikit-learn"
   ]
  },
  {
   "cell_type": "code",
   "execution_count": null,
   "id": "72c92380",
   "metadata": {},
   "outputs": [],
   "source": [
    "from sklearn.datasets import fetch_california_housing\n",
    "from sklearn.neighbors import KNeighborsRegressor\n",
    "from sklearn.linear_model import LinearRegression\n",
    "from matplotlib import pyplot as plt\n",
    "import seaborn as sns\n",
    "\n",
    "X, y = fetch_california_housing(return_X_y=True)\n",
    "model = KNeighborsRegressor()\n",
    "model.fit(X, y)\n",
    "pred = model.predict(X)\n",
    "\n",
    "\n",
    "sns.set()\n",
    "plt.scatter(pred, y, alpha = 0.01)\n",
    "plt.show()"
   ]
  },
  {
   "cell_type": "code",
   "execution_count": null,
   "id": "4cc2f266",
   "metadata": {},
   "outputs": [],
   "source": [
    "from sklearn.datasets import fetch_california_housing\n",
    "from sklearn.neighbors import KNeighborsRegressor\n",
    "from sklearn.linear_model import LinearRegression\n",
    "from matplotlib import pyplot as plt\n",
    "import seaborn as sns\n",
    "\n",
    "model = LinearRegression()\n",
    "model.fit(X, y)\n",
    "pred = model.predict(X)\n",
    "sns.set()\n",
    "plt.scatter(y, pred, alpha = 0.01)\n",
    "plt.show()"
   ]
  },
  {
   "cell_type": "code",
   "execution_count": null,
   "id": "d4249637",
   "metadata": {},
   "outputs": [],
   "source": [
    "import seaborn as sns \n",
    "\n",
    "df = sns.load_dataset('penguins')"
   ]
  },
  {
   "cell_type": "code",
   "execution_count": null,
   "id": "ec418dc1",
   "metadata": {},
   "outputs": [],
   "source": [
    "from sklearn.pipeline import make_pipeline\n",
    "from sklearn.preprocessing import StandardScaler\n",
    "from sklearn.neighbors import KNeighborsRegressor\n",
    "from sklearn.datasets import fetch_california_housing\n",
    "from sklearn.model_selection import train_test_split\n",
    "import matplotlib.pyplot as plt\n",
    "import seaborn as sns\n",
    "\n",
    "X, y = fetch_california_housing(return_X_y=True)\n",
    "X_train, X_test, y_train, y_test = train_test_split(X, y)\n",
    "\n",
    "model = make_pipeline(\n",
    "    StandardScaler(),\n",
    "    KNeighborsRegressor()\n",
    ")\n",
    "\n",
    "model.fit(X_train, y_train)\n",
    "\n",
    "pred = model.predict(X_test)\n",
    "\n",
    "sns.set()\n",
    "plt.scatter(pred, y_test, alpha = 0.05)\n",
    "plt.show()"
   ]
  },
  {
   "cell_type": "code",
   "execution_count": null,
   "id": "715fc239",
   "metadata": {},
   "outputs": [],
   "source": [
    "from sklearn.model_selection import GridSearchCV\n",
    "import pandas as pd\n",
    "\n",
    "cv = GridSearchCV(\n",
    "    estimator = model, \n",
    "    param_grid = {\n",
    "        'kneighborsregressor__n_neighbors': range(1, 11)\n",
    "    }, \n",
    "    cv = 3\n",
    ")\n",
    "\n",
    "cv.fit(X_train, y_train)\n",
    "pd.DataFrame(cv.cv_results_)"
   ]
  },
  {
   "cell_type": "code",
   "execution_count": null,
   "id": "b39d2281",
   "metadata": {},
   "outputs": [],
   "source": [
    "from sklearn.datasets import fetch_california_housing\n",
    "\n",
    "california_housing = fetch_california_housing()\n",
    "print(california_housing['DESCR'])"
   ]
  },
  {
   "cell_type": "markdown",
   "id": "8a099004",
   "metadata": {},
   "source": [
    "## 2. Preprocessing"
   ]
  },
  {
   "cell_type": "code",
   "execution_count": null,
   "id": "be512792",
   "metadata": {},
   "outputs": [],
   "source": [
    "import numpy as np\n",
    "import pandas as pd\n",
    "import matplotlib.pyplot as plt\n",
    "import seaborn as sns\n",
    "from sklearn.preprocessing import StandardScaler\n",
    "from sklearn.linear_model import LogisticRegression\n",
    "from sklearn.pipeline import make_pipeline\n",
    "from sklearn.preprocessing import PolynomialFeatures\n",
    "sns.set()"
   ]
  },
  {
   "cell_type": "code",
   "execution_count": null,
   "id": "daa15efb",
   "metadata": {},
   "outputs": [],
   "source": [
    "# load dataset\n",
    "df = pd.read_csv('data/preprocessing/drawndata1.csv')\n",
    "X = df[['x', 'y']]\n",
    "y = df['z'] == 'a'\n",
    "\n",
    "# plot\n",
    "plt.scatter(\n",
    "    X['x'], X['y'], \n",
    "    c = y, \n",
    "    cmap = 'RdYlBu',\n",
    "    alpha = 0.5\n",
    ")\n",
    "plt.show()"
   ]
  },
  {
   "cell_type": "code",
   "execution_count": null,
   "id": "75a2655d",
   "metadata": {},
   "outputs": [],
   "source": [
    "# standardise\n",
    "X_new = StandardScaler().fit_transform(X)\n",
    "plt.scatter(\n",
    "    X_new[:, 0], X_new[:, 1],\n",
    "    c = y,\n",
    "    cmap = 'RdYlBu', \n",
    "    alpha = 0.5\n",
    ")"
   ]
  },
  {
   "cell_type": "code",
   "execution_count": null,
   "id": "7cf1a90e",
   "metadata": {},
   "outputs": [],
   "source": [
    "# generate data\n",
    "x = np.random.exponential(10, (1000)) + np.random.normal(0, 1, (1000))\n",
    "\n",
    "plt.hist((x - np.mean(x)) / np.std(x), 30)\n",
    "plt.show()"
   ]
  },
  {
   "cell_type": "code",
   "execution_count": null,
   "id": "0bde2d5e",
   "metadata": {},
   "outputs": [],
   "source": [
    "from sklearn.preprocessing import QuantileTransformer\n",
    "\n",
    "X_new = QuantileTransformer().fit_transform(X)\n",
    "plt.scatter(\n",
    "    X_new[:, 0], X_new[:, 1],\n",
    "    c = y,\n",
    "    cmap = 'RdYlBu',\n",
    "    alpha = 0.5\n",
    ")\n",
    "plt.show()"
   ]
  },
  {
   "cell_type": "code",
   "execution_count": null,
   "id": "c0064762",
   "metadata": {},
   "outputs": [],
   "source": [
    "df = pd.read_csv('data/preprocessing/drawndata2.csv')\n",
    "X = df[['x', 'y']]\n",
    "y = df['z'] == 'a'\n",
    "plt.scatter(\n",
    "    X['x'], X['y'],\n",
    "    c = y,\n",
    "    cmap = 'RdYlBu',\n",
    "    alpha = 0.5\n",
    ")\n",
    "plt.show()"
   ]
  },
  {
   "cell_type": "code",
   "execution_count": null,
   "id": "2536d6f9",
   "metadata": {},
   "outputs": [],
   "source": [
    "pipe = make_pipeline(\n",
    "    QuantileTransformer(),\n",
    "    LogisticRegression()\n",
    ")\n",
    "\n",
    "pred = pipe.fit(X, y)\n",
    "plt.scatter(\n",
    "    X['x'], X['y'],\n",
    "    c = pred.predict(X),\n",
    "    cmap = 'RdYlBu',\n",
    "    alpha = 0.5\n",
    ")\n",
    "plt.show()"
   ]
  },
  {
   "cell_type": "code",
   "execution_count": null,
   "id": "06230da8",
   "metadata": {},
   "outputs": [],
   "source": [
    "pipe = make_pipeline(\n",
    "    PolynomialFeatures(),\n",
    "    LogisticRegression()\n",
    ")\n",
    "\n",
    "pred = pipe.fit(X, y)\n",
    "plt.scatter(\n",
    "    X['x'], X['y'],\n",
    "    c = pred.predict(X),\n",
    "    cmap = 'RdYlBu',\n",
    "    alpha = 0.5\n",
    ")\n",
    "plt.show()"
   ]
  },
  {
   "cell_type": "code",
   "execution_count": null,
   "id": "10db89fd",
   "metadata": {},
   "outputs": [],
   "source": [
    "from sklearn.preprocessing import OneHotEncoder\n",
    "enc = OneHotEncoder(sparse = False, handle_unknown = 'ignore')"
   ]
  },
  {
   "cell_type": "code",
   "execution_count": null,
   "id": "974ae5c3",
   "metadata": {},
   "outputs": [],
   "source": [
    "arr = np.array(['low', 'low', 'high', 'medium']).reshape(-1, 1)\n",
    "enc.fit_transform(arr)"
   ]
  },
  {
   "cell_type": "code",
   "execution_count": null,
   "id": "5239f839",
   "metadata": {},
   "outputs": [],
   "source": [
    "enc.transform([['zero']])"
   ]
  },
  {
   "cell_type": "markdown",
   "id": "1e57f983",
   "metadata": {},
   "source": [
    "## 3.Metrics"
   ]
  },
  {
   "cell_type": "code",
   "execution_count": 2,
   "id": "aace6e28",
   "metadata": {},
   "outputs": [],
   "source": [
    "import pandas as pd\n",
    "from sklearn.linear_model import LogisticRegression\n",
    "from sklearn.model_selection import GridSearchCV"
   ]
  },
  {
   "cell_type": "code",
   "execution_count": 11,
   "id": "91d3a7f7",
   "metadata": {},
   "outputs": [
    {
     "name": "stdout",
     "output_type": "stream",
     "text": [
      "fraud: 196\n",
      "not fraud: 79804\n"
     ]
    }
   ],
   "source": [
    "# load data\n",
    "df = pd.read_csv('data/metrics/creditcard.csv')[: 80_000]\n",
    "X = df.drop(columns = ['Time', 'Amount', 'Class'])\n",
    "y = df['Class']\n",
    "\n",
    "print(f\"fraud: {y.sum()}\\nnot fraud: {len(y) - y.sum()}\")"
   ]
  },
  {
   "cell_type": "code",
   "execution_count": 19,
   "id": "83aea233",
   "metadata": {},
   "outputs": [
    {
     "name": "stdout",
     "output_type": "stream",
     "text": [
      "res0: 151 res1: 171\n"
     ]
    }
   ],
   "source": [
    "res_0 = LogisticRegression(\n",
    "    max_iter = 1000\n",
    ").fit(X, y).predict(X).sum()\n",
    "\n",
    "res_1 = LogisticRegression(\n",
    "    class_weight = {0: 1, 1: 2}, # balance the classes\n",
    "    max_iter = 1000\n",
    ").fit(X, y).predict(X).sum()\n",
    "\n",
    "# check how much the param weight can affect the result\n",
    "print(f\"res0: {res_0} res1: {res_1}\")"
   ]
  },
  {
   "cell_type": "code",
   "execution_count": 24,
   "id": "610862bb",
   "metadata": {},
   "outputs": [
    {
     "data": {
      "text/html": [
       "<div>\n",
       "<style scoped>\n",
       "    .dataframe tbody tr th:only-of-type {\n",
       "        vertical-align: middle;\n",
       "    }\n",
       "\n",
       "    .dataframe tbody tr th {\n",
       "        vertical-align: top;\n",
       "    }\n",
       "\n",
       "    .dataframe thead th {\n",
       "        text-align: right;\n",
       "    }\n",
       "</style>\n",
       "<table border=\"1\" class=\"dataframe\">\n",
       "  <thead>\n",
       "    <tr style=\"text-align: right;\">\n",
       "      <th></th>\n",
       "      <th>mean_fit_time</th>\n",
       "      <th>std_fit_time</th>\n",
       "      <th>mean_score_time</th>\n",
       "      <th>std_score_time</th>\n",
       "      <th>param_class_weight</th>\n",
       "      <th>params</th>\n",
       "      <th>split0_test_score</th>\n",
       "      <th>split1_test_score</th>\n",
       "      <th>split2_test_score</th>\n",
       "      <th>split3_test_score</th>\n",
       "      <th>mean_test_score</th>\n",
       "      <th>std_test_score</th>\n",
       "      <th>rank_test_score</th>\n",
       "    </tr>\n",
       "  </thead>\n",
       "  <tbody>\n",
       "    <tr>\n",
       "      <th>0</th>\n",
       "      <td>0.519905</td>\n",
       "      <td>0.114973</td>\n",
       "      <td>0.003752</td>\n",
       "      <td>0.001201</td>\n",
       "      <td>{0: 1, 1: 1}</td>\n",
       "      <td>{'class_weight': {0: 1, 1: 1}}</td>\n",
       "      <td>0.99405</td>\n",
       "      <td>0.99835</td>\n",
       "      <td>0.99945</td>\n",
       "      <td>0.99780</td>\n",
       "      <td>0.997413</td>\n",
       "      <td>0.002030</td>\n",
       "      <td>1</td>\n",
       "    </tr>\n",
       "    <tr>\n",
       "      <th>1</th>\n",
       "      <td>0.409188</td>\n",
       "      <td>0.114032</td>\n",
       "      <td>0.003123</td>\n",
       "      <td>0.000522</td>\n",
       "      <td>{0: 1, 1: 2}</td>\n",
       "      <td>{'class_weight': {0: 1, 1: 2}}</td>\n",
       "      <td>0.99025</td>\n",
       "      <td>0.99840</td>\n",
       "      <td>0.99960</td>\n",
       "      <td>0.99805</td>\n",
       "      <td>0.996575</td>\n",
       "      <td>0.003697</td>\n",
       "      <td>2</td>\n",
       "    </tr>\n",
       "    <tr>\n",
       "      <th>2</th>\n",
       "      <td>0.578611</td>\n",
       "      <td>0.062658</td>\n",
       "      <td>0.003160</td>\n",
       "      <td>0.000341</td>\n",
       "      <td>{0: 1, 1: 3}</td>\n",
       "      <td>{'class_weight': {0: 1, 1: 3}}</td>\n",
       "      <td>0.98730</td>\n",
       "      <td>0.99845</td>\n",
       "      <td>0.99960</td>\n",
       "      <td>0.99815</td>\n",
       "      <td>0.995875</td>\n",
       "      <td>0.004980</td>\n",
       "      <td>3</td>\n",
       "    </tr>\n",
       "  </tbody>\n",
       "</table>\n",
       "</div>"
      ],
      "text/plain": [
       "   mean_fit_time  std_fit_time  mean_score_time  std_score_time  \\\n",
       "0       0.519905      0.114973         0.003752        0.001201   \n",
       "1       0.409188      0.114032         0.003123        0.000522   \n",
       "2       0.578611      0.062658         0.003160        0.000341   \n",
       "\n",
       "  param_class_weight                          params  split0_test_score  \\\n",
       "0       {0: 1, 1: 1}  {'class_weight': {0: 1, 1: 1}}            0.99405   \n",
       "1       {0: 1, 1: 2}  {'class_weight': {0: 1, 1: 2}}            0.99025   \n",
       "2       {0: 1, 1: 3}  {'class_weight': {0: 1, 1: 3}}            0.98730   \n",
       "\n",
       "   split1_test_score  split2_test_score  split3_test_score  mean_test_score  \\\n",
       "0            0.99835            0.99945            0.99780         0.997413   \n",
       "1            0.99840            0.99960            0.99805         0.996575   \n",
       "2            0.99845            0.99960            0.99815         0.995875   \n",
       "\n",
       "   std_test_score  rank_test_score  \n",
       "0        0.002030                1  \n",
       "1        0.003697                2  \n",
       "2        0.004980                3  "
      ]
     },
     "execution_count": 24,
     "metadata": {},
     "output_type": "execute_result"
    }
   ],
   "source": [
    "# search the best class weight\n",
    "grid = GridSearchCV(\n",
    "    estimator = LogisticRegression(max_iter = 1000), \n",
    "    param_grid = {\n",
    "        # try 1 to 3\n",
    "        'class_weight': [{0: 1, 1: v} for v in range(1, 4)]\n",
    "    }, \n",
    "    cv = 4, \n",
    "    n_jobs = 1\n",
    ")\n",
    "pd.DataFrame(grid.fit(X, y).cv_results_)"
   ]
  },
  {
   "cell_type": "code",
   "execution_count": null,
   "id": "5a62c687",
   "metadata": {},
   "outputs": [],
   "source": []
  }
 ],
 "metadata": {
  "kernelspec": {
   "display_name": "Python 3 (ipykernel)",
   "language": "python",
   "name": "python3"
  },
  "language_info": {
   "codemirror_mode": {
    "name": "ipython",
    "version": 3
   },
   "file_extension": ".py",
   "mimetype": "text/x-python",
   "name": "python",
   "nbconvert_exporter": "python",
   "pygments_lexer": "ipython3",
   "version": "3.7.9"
  },
  "vscode": {
   "interpreter": {
    "hash": "e08f905bf1776663953e7111deca47b3f4ca7336e0fc40e244c1581d71b27367"
   }
  }
 },
 "nbformat": 4,
 "nbformat_minor": 5
}
