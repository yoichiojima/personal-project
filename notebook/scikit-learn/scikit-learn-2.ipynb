{
 "cells": [
  {
   "cell_type": "markdown",
   "id": "bd3020ae",
   "metadata": {},
   "source": [
    "# Scikit-learn tutorial\n",
    "\n",
    "https://www.youtube.com/watch?v=0B5eIE_1vpU "
   ]
  },
  {
   "cell_type": "markdown",
   "id": "5ac2a742",
   "metadata": {},
   "source": [
    "## 1.Scikit-learn"
   ]
  },
  {
   "cell_type": "code",
   "execution_count": null,
   "id": "72c92380",
   "metadata": {},
   "outputs": [],
   "source": [
    "from sklearn.datasets import fetch_california_housing\n",
    "from sklearn.neighbors import KNeighborsRegressor\n",
    "from sklearn.linear_model import LinearRegression\n",
    "from matplotlib import pyplot as plt\n",
    "import seaborn as sns\n",
    "\n",
    "X, y = fetch_california_housing(return_X_y=True)\n",
    "model = KNeighborsRegressor()\n",
    "model.fit(X, y)\n",
    "pred = model.predict(X)\n",
    "\n",
    "\n",
    "sns.set()\n",
    "plt.scatter(pred, y, alpha = 0.01)\n",
    "plt.show()"
   ]
  },
  {
   "cell_type": "code",
   "execution_count": null,
   "id": "4cc2f266",
   "metadata": {},
   "outputs": [],
   "source": [
    "from sklearn.datasets import fetch_california_housing\n",
    "from sklearn.neighbors import KNeighborsRegressor\n",
    "from sklearn.linear_model import LinearRegression\n",
    "from matplotlib import pyplot as plt\n",
    "import seaborn as sns\n",
    "\n",
    "model = LinearRegression()\n",
    "model.fit(X, y)\n",
    "pred = model.predict(X)\n",
    "sns.set()\n",
    "plt.scatter(y, pred, alpha = 0.01)\n",
    "plt.show()"
   ]
  },
  {
   "cell_type": "code",
   "execution_count": null,
   "id": "d4249637",
   "metadata": {},
   "outputs": [],
   "source": [
    "import seaborn as sns \n",
    "\n",
    "df = sns.load_dataset('penguins')"
   ]
  },
  {
   "cell_type": "code",
   "execution_count": null,
   "id": "ec418dc1",
   "metadata": {},
   "outputs": [],
   "source": [
    "from sklearn.pipeline import make_pipeline\n",
    "from sklearn.preprocessing import StandardScaler\n",
    "from sklearn.neighbors import KNeighborsRegressor\n",
    "from sklearn.datasets import fetch_california_housing\n",
    "from sklearn.model_selection import train_test_split\n",
    "import matplotlib.pyplot as plt\n",
    "import seaborn as sns\n",
    "\n",
    "X, y = fetch_california_housing(return_X_y=True)\n",
    "X_train, X_test, y_train, y_test = train_test_split(X, y)\n",
    "\n",
    "model = make_pipeline(\n",
    "    StandardScaler(),\n",
    "    KNeighborsRegressor()\n",
    ")\n",
    "\n",
    "model.fit(X_train, y_train)\n",
    "\n",
    "pred = model.predict(X_test)\n",
    "\n",
    "sns.set()\n",
    "plt.scatter(pred, y_test, alpha = 0.05)\n",
    "plt.show()"
   ]
  },
  {
   "cell_type": "code",
   "execution_count": null,
   "id": "715fc239",
   "metadata": {},
   "outputs": [],
   "source": [
    "from sklearn.model_selection import GridSearchCV\n",
    "import pandas as pd\n",
    "\n",
    "cv = GridSearchCV(\n",
    "    estimator = model, \n",
    "    param_grid = {\n",
    "        'kneighborsregressor__n_neighbors': range(1, 11)\n",
    "    }, \n",
    "    cv = 3\n",
    ")\n",
    "\n",
    "cv.fit(X_train, y_train)\n",
    "pd.DataFrame(cv.cv_results_)"
   ]
  },
  {
   "cell_type": "code",
   "execution_count": null,
   "id": "b39d2281",
   "metadata": {},
   "outputs": [],
   "source": [
    "from sklearn.datasets import fetch_california_housing\n",
    "\n",
    "california_housing = fetch_california_housing()\n",
    "print(california_housing['DESCR'])"
   ]
  },
  {
   "cell_type": "markdown",
   "id": "8a099004",
   "metadata": {},
   "source": [
    "## 2. Preprocessing"
   ]
  },
  {
   "cell_type": "code",
   "execution_count": null,
   "id": "be512792",
   "metadata": {},
   "outputs": [],
   "source": [
    "import numpy as np\n",
    "import pandas as pd\n",
    "import matplotlib.pyplot as plt\n",
    "import seaborn as sns\n",
    "from sklearn.preprocessing import StandardScaler\n",
    "from sklearn.linear_model import LogisticRegression\n",
    "from sklearn.pipeline import make_pipeline\n",
    "from sklearn.preprocessing import PolynomialFeatures\n",
    "sns.set()"
   ]
  },
  {
   "cell_type": "code",
   "execution_count": null,
   "id": "daa15efb",
   "metadata": {},
   "outputs": [],
   "source": [
    "# load dataset\n",
    "df = pd.read_csv('data/preprocessing/drawndata1.csv')\n",
    "X = df[['x', 'y']]\n",
    "y = df['z'] == 'a'\n",
    "\n",
    "# plot\n",
    "plt.scatter(\n",
    "    X['x'], X['y'], \n",
    "    c = y, \n",
    "    cmap = 'RdYlBu',\n",
    "    alpha = 0.5\n",
    ")\n",
    "plt.show()"
   ]
  },
  {
   "cell_type": "code",
   "execution_count": null,
   "id": "75a2655d",
   "metadata": {},
   "outputs": [],
   "source": [
    "# standardise\n",
    "X_new = StandardScaler().fit_transform(X)\n",
    "plt.scatter(\n",
    "    X_new[:, 0], X_new[:, 1],\n",
    "    c = y,\n",
    "    cmap = 'RdYlBu', \n",
    "    alpha = 0.5\n",
    ")"
   ]
  },
  {
   "cell_type": "code",
   "execution_count": null,
   "id": "7cf1a90e",
   "metadata": {},
   "outputs": [],
   "source": [
    "# generate data\n",
    "x = np.random.exponential(10, (1000)) + np.random.normal(0, 1, (1000))\n",
    "\n",
    "plt.hist((x - np.mean(x)) / np.std(x), 30)\n",
    "plt.show()"
   ]
  },
  {
   "cell_type": "code",
   "execution_count": null,
   "id": "0bde2d5e",
   "metadata": {},
   "outputs": [],
   "source": [
    "from sklearn.preprocessing import QuantileTransformer\n",
    "\n",
    "X_new = QuantileTransformer().fit_transform(X)\n",
    "plt.scatter(\n",
    "    X_new[:, 0], X_new[:, 1],\n",
    "    c = y,\n",
    "    cmap = 'RdYlBu',\n",
    "    alpha = 0.5\n",
    ")\n",
    "plt.show()"
   ]
  },
  {
   "cell_type": "code",
   "execution_count": null,
   "id": "c0064762",
   "metadata": {},
   "outputs": [],
   "source": [
    "df = pd.read_csv('data/preprocessing/drawndata2.csv')\n",
    "X = df[['x', 'y']]\n",
    "y = df['z'] == 'a'\n",
    "plt.scatter(\n",
    "    X['x'], X['y'],\n",
    "    c = y,\n",
    "    cmap = 'RdYlBu',\n",
    "    alpha = 0.5\n",
    ")\n",
    "plt.show()"
   ]
  },
  {
   "cell_type": "code",
   "execution_count": null,
   "id": "2536d6f9",
   "metadata": {},
   "outputs": [],
   "source": [
    "pipe = make_pipeline(\n",
    "    QuantileTransformer(),\n",
    "    LogisticRegression()\n",
    ")\n",
    "\n",
    "pred = pipe.fit(X, y)\n",
    "plt.scatter(\n",
    "    X['x'], X['y'],\n",
    "    c = pred.predict(X),\n",
    "    cmap = 'RdYlBu',\n",
    "    alpha = 0.5\n",
    ")\n",
    "plt.show()"
   ]
  },
  {
   "cell_type": "code",
   "execution_count": null,
   "id": "06230da8",
   "metadata": {},
   "outputs": [],
   "source": [
    "pipe = make_pipeline(\n",
    "    PolynomialFeatures(),\n",
    "    LogisticRegression()\n",
    ")\n",
    "\n",
    "pred = pipe.fit(X, y)\n",
    "plt.scatter(\n",
    "    X['x'], X['y'],\n",
    "    c = pred.predict(X),\n",
    "    cmap = 'RdYlBu',\n",
    "    alpha = 0.5\n",
    ")\n",
    "plt.show()"
   ]
  },
  {
   "cell_type": "code",
   "execution_count": null,
   "id": "10db89fd",
   "metadata": {},
   "outputs": [],
   "source": [
    "from sklearn.preprocessing import OneHotEncoder\n",
    "enc = OneHotEncoder(sparse = False, handle_unknown = 'ignore')"
   ]
  },
  {
   "cell_type": "code",
   "execution_count": null,
   "id": "974ae5c3",
   "metadata": {},
   "outputs": [],
   "source": [
    "arr = np.array(['low', 'low', 'high', 'medium']).reshape(-1, 1)\n",
    "enc.fit_transform(arr)"
   ]
  },
  {
   "cell_type": "code",
   "execution_count": null,
   "id": "5239f839",
   "metadata": {},
   "outputs": [],
   "source": [
    "enc.transform([['zero']])"
   ]
  },
  {
   "cell_type": "markdown",
   "id": "1e57f983",
   "metadata": {},
   "source": [
    "## 3.Metrics"
   ]
  },
  {
   "cell_type": "markdown",
   "id": "aace6e28",
   "metadata": {},
   "source": []
  }
 ],
 "metadata": {
  "kernelspec": {
   "display_name": "Python 3 (ipykernel)",
   "language": "python",
   "name": "python3"
  },
  "language_info": {
   "codemirror_mode": {
    "name": "ipython",
    "version": 3
   },
   "file_extension": ".py",
   "mimetype": "text/x-python",
   "name": "python",
   "nbconvert_exporter": "python",
   "pygments_lexer": "ipython3",
   "version": "3.7.9"
  },
  "vscode": {
   "interpreter": {
    "hash": "e08f905bf1776663953e7111deca47b3f4ca7336e0fc40e244c1581d71b27367"
   }
  }
 },
 "nbformat": 4,
 "nbformat_minor": 5
}
