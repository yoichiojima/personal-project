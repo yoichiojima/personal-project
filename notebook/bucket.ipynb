{
 "cells": [
  {
   "cell_type": "code",
   "execution_count": 2,
   "id": "cc1cbdea",
   "metadata": {},
   "outputs": [],
   "source": [
    "import pandas as pd"
   ]
  },
  {
   "cell_type": "code",
   "execution_count": 4,
   "id": "598d2f36",
   "metadata": {},
   "outputs": [
    {
     "data": {
      "text/html": [
       "<div>\n",
       "<style scoped>\n",
       "    .dataframe tbody tr th:only-of-type {\n",
       "        vertical-align: middle;\n",
       "    }\n",
       "\n",
       "    .dataframe tbody tr th {\n",
       "        vertical-align: top;\n",
       "    }\n",
       "\n",
       "    .dataframe thead th {\n",
       "        text-align: right;\n",
       "    }\n",
       "</style>\n",
       "<table border=\"1\" class=\"dataframe\">\n",
       "  <thead>\n",
       "    <tr style=\"text-align: right;\">\n",
       "      <th></th>\n",
       "      <th>track_name</th>\n",
       "      <th>artists_name</th>\n",
       "      <th>added_at</th>\n",
       "      <th>track_id</th>\n",
       "      <th>artists_id</th>\n",
       "    </tr>\n",
       "  </thead>\n",
       "  <tbody>\n",
       "    <tr>\n",
       "      <th>0</th>\n",
       "      <td>Anti-Hero</td>\n",
       "      <td>['Taylor Swift']</td>\n",
       "      <td>2022-10-27T11:49:06Z</td>\n",
       "      <td>0V3wPSX9ygBnCm8psDIegu</td>\n",
       "      <td>['06HL4z0CvFAxyc27GXpf02']</td>\n",
       "    </tr>\n",
       "    <tr>\n",
       "      <th>1</th>\n",
       "      <td>Unholy (feat. Kim Petras)</td>\n",
       "      <td>['Sam Smith', 'Kim Petras']</td>\n",
       "      <td>2022-10-27T11:49:06Z</td>\n",
       "      <td>3nqQXoyQOWXiESFLlDF1hG</td>\n",
       "      <td>['2wY79sveU1sp5g7SokKOiI', '3Xt3RrJMFv5SZkCfUE...</td>\n",
       "    </tr>\n",
       "    <tr>\n",
       "      <th>2</th>\n",
       "      <td>Lavender Haze</td>\n",
       "      <td>['Taylor Swift']</td>\n",
       "      <td>2022-10-27T11:49:06Z</td>\n",
       "      <td>5jQI2r1RdgtuT8S3iG8zFC</td>\n",
       "      <td>['06HL4z0CvFAxyc27GXpf02']</td>\n",
       "    </tr>\n",
       "    <tr>\n",
       "      <th>3</th>\n",
       "      <td>Midnight Rain</td>\n",
       "      <td>['Taylor Swift']</td>\n",
       "      <td>2022-10-27T11:49:06Z</td>\n",
       "      <td>3rWDp9tBPQR9z6U5YyRSK4</td>\n",
       "      <td>['06HL4z0CvFAxyc27GXpf02']</td>\n",
       "    </tr>\n",
       "    <tr>\n",
       "      <th>4</th>\n",
       "      <td>Snow On The Beach (feat. Lana Del Rey)</td>\n",
       "      <td>['Taylor Swift', 'Lana Del Rey']</td>\n",
       "      <td>2022-10-27T11:49:06Z</td>\n",
       "      <td>1wtOxkiel43cVs0Yux5Q4h</td>\n",
       "      <td>['06HL4z0CvFAxyc27GXpf02', '00FQb4jTyendYWaN8p...</td>\n",
       "    </tr>\n",
       "  </tbody>\n",
       "</table>\n",
       "</div>"
      ],
      "text/plain": [
       "                               track_name                      artists_name  \\\n",
       "0                               Anti-Hero                  ['Taylor Swift']   \n",
       "1               Unholy (feat. Kim Petras)       ['Sam Smith', 'Kim Petras']   \n",
       "2                           Lavender Haze                  ['Taylor Swift']   \n",
       "3                           Midnight Rain                  ['Taylor Swift']   \n",
       "4  Snow On The Beach (feat. Lana Del Rey)  ['Taylor Swift', 'Lana Del Rey']   \n",
       "\n",
       "               added_at                track_id  \\\n",
       "0  2022-10-27T11:49:06Z  0V3wPSX9ygBnCm8psDIegu   \n",
       "1  2022-10-27T11:49:06Z  3nqQXoyQOWXiESFLlDF1hG   \n",
       "2  2022-10-27T11:49:06Z  5jQI2r1RdgtuT8S3iG8zFC   \n",
       "3  2022-10-27T11:49:06Z  3rWDp9tBPQR9z6U5YyRSK4   \n",
       "4  2022-10-27T11:49:06Z  1wtOxkiel43cVs0Yux5Q4h   \n",
       "\n",
       "                                          artists_id  \n",
       "0                         ['06HL4z0CvFAxyc27GXpf02']  \n",
       "1  ['2wY79sveU1sp5g7SokKOiI', '3Xt3RrJMFv5SZkCfUE...  \n",
       "2                         ['06HL4z0CvFAxyc27GXpf02']  \n",
       "3                         ['06HL4z0CvFAxyc27GXpf02']  \n",
       "4  ['06HL4z0CvFAxyc27GXpf02', '00FQb4jTyendYWaN8p...  "
      ]
     },
     "execution_count": 4,
     "metadata": {},
     "output_type": "execute_result"
    }
   ],
   "source": [
    "pd.read_csv('../bucket/spotify/global_top_50/2022-10-28.csv').head()"
   ]
  },
  {
   "cell_type": "code",
   "execution_count": null,
   "id": "61e89bd4",
   "metadata": {},
   "outputs": [],
   "source": []
  }
 ],
 "metadata": {
  "kernelspec": {
   "display_name": "Python 3 (ipykernel)",
   "language": "python",
   "name": "python3"
  },
  "language_info": {
   "codemirror_mode": {
    "name": "ipython",
    "version": 3
   },
   "file_extension": ".py",
   "mimetype": "text/x-python",
   "name": "python",
   "nbconvert_exporter": "python",
   "pygments_lexer": "ipython3",
   "version": "3.7.9"
  },
  "vscode": {
   "interpreter": {
    "hash": "e08f905bf1776663953e7111deca47b3f4ca7336e0fc40e244c1581d71b27367"
   }
  }
 },
 "nbformat": 4,
 "nbformat_minor": 5
}
